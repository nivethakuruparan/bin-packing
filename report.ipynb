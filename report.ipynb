{
 "cells": [
  {
   "cell_type": "markdown",
   "id": "d0f21658-40c8-40c9-99d2-ec8c0b42e84f",
   "metadata": {},
   "source": [
    "# Bin Packing Lab"
   ]
  },
  {
   "cell_type": "markdown",
   "id": "f9ffdec9-9fcb-4a7b-910e-abecc6352210",
   "metadata": {},
   "source": [
    "- Authors:\n",
    "  - Nivetha Kuruparan, kuruparn@mcmaster.ca\n",
    "  - Tanveer Brar, brart5@mcmaster.ca\n",
    "- Group ID on Avenue: 20\n",
    "- Gitlab URL: https://gitlab.cas.mcmaster.ca/brart5/l2-bin-packing"
   ]
  },
  {
   "cell_type": "markdown",
   "id": "fcb763d5-aa1a-4ef1-a6ba-e3cbaae313aa",
   "metadata": {},
   "source": [
    "## How to use the provided code?"
   ]
  },
  {
   "cell_type": "markdown",
   "id": "a0308135-ad12-4563-92b8-45681d3e90a2",
   "metadata": {},
   "source": [
    "_(this section is just here for information, you can get rid of it in your own report)_"
   ]
  },
  {
   "cell_type": "code",
   "execution_count": 1,
   "id": "2166b346-058f-4619-9072-e6fbe608fa0e",
   "metadata": {},
   "outputs": [],
   "source": [
    "from macpacking.reader import DatasetReader, BinppReader\n",
    "from macpacking.model  import Online, Offline\n",
    "import macpacking.algorithms.offline as offline"
   ]
  },
  {
   "cell_type": "markdown",
   "id": "5fe23917-cc5c-4883-9a2a-581f3fbb2ba4",
   "metadata": {},
   "source": [
    "Now that the business code is imported, we can load an existing dataset"
   ]
  },
  {
   "cell_type": "code",
   "execution_count": 2,
   "id": "21df8c2c-a6fa-434b-88c3-361404872819",
   "metadata": {},
   "outputs": [
    {
     "name": "stdout",
     "output_type": "stream",
     "text": [
      "Dataset: _datasets/binpp/N1C1W1/N1C1W1_B.BPP.txt\n",
      "  - Bin Capacity: 100\n",
      "  - Objects to pack: [8, 8, 12, 13, 13, 14, 15, 17, 18, 19, 20, 23, 30, 37, 37, 39, 40, 43, 43, 44, 44, 50, 51, 61, 61, 62, 62, 63, 66, 67, 69, 70, 71, 72, 75, 76, 76, 79, 83, 83, 88, 92, 92, 93, 93, 97, 97, 97, 99, 100]\n"
     ]
    }
   ],
   "source": [
    "dataset = '_datasets/binpp/N1C1W1/N1C1W1_B.BPP.txt'\n",
    "reader: DatasetReader = BinppReader(dataset)\n",
    "print(f'Dataset: {dataset}')\n",
    "print(f'  - Bin Capacity: {reader.offline()[0]}')\n",
    "print(f'  - Objects to pack: {sorted(reader.offline()[1])}')"
   ]
  },
  {
   "cell_type": "markdown",
   "id": "0ec54798-4c40-4a2c-a88f-59d6da87975e",
   "metadata": {},
   "source": [
    "Acording to the `oracle.xslx` file, we now that the optimal solution for this case is to use _31_ bins. Let's call the baseline algorithm, which is an offline one, and see how it performs."
   ]
  },
  {
   "cell_type": "code",
   "execution_count": 3,
   "id": "6358d7c1-1777-4c63-af33-d4ebfea952a7",
   "metadata": {},
   "outputs": [
    {
     "name": "stdout",
     "output_type": "stream",
     "text": [
      "nb_bins = 31\n",
      "[[40], [43, 43, 14], [50, 44], [51, 44], [61], [61, 39], [62], [62, 37], [63, 37], [66], [67], [69], [70, 30], [71], [72, 13, 13], [75, 18], [76, 19], [76, 23], [79, 20], [83, 15], [83, 17], [88, 12], [92, 8], [92, 8], [93], [93], [97], [97], [97], [99], [100]]\n"
     ]
    }
   ],
   "source": [
    "import macpacking.algorithms.baseline as baseline\n",
    "strategy: Offline = baseline.BenMaier()\n",
    "result = strategy(reader.offline())\n",
    "print(f'nb_bins = {len(result)}')\n",
    "print(f'{sorted(result)}')"
   ]
  },
  {
   "cell_type": "markdown",
   "id": "74e4777c-bd24-4d4f-a3bc-8465cc5ec346",
   "metadata": {},
   "source": [
    "So the baseline finds the optimal solution. That's good news! Let's call our very own version of `NextFit`, as an offline algorithm."
   ]
  },
  {
   "cell_type": "code",
   "execution_count": 4,
   "id": "300c2945-fb05-4ab7-9f63-78568bb2f666",
   "metadata": {},
   "outputs": [
    {
     "name": "stdout",
     "output_type": "stream",
     "text": [
      "nb_bins = 35\n",
      "[[14, 13, 13, 12, 8, 8], [20, 19, 18, 17, 15], [37, 30, 23], [39, 37], [43, 40], [44, 43], [50, 44], [51], [61], [61], [62], [62], [63], [66], [67], [69], [70], [71], [72], [75], [76], [76], [79], [83], [83], [88], [92], [92], [93], [93], [97], [97], [97], [99], [100]]\n"
     ]
    }
   ],
   "source": [
    "import macpacking.algorithms.online as online\n",
    "strategy: Offline = offline.NextFit()\n",
    "result = strategy(reader.offline())\n",
    "print(f'nb_bins = {len(result)}')\n",
    "print(f'{sorted(result)}')"
   ]
  },
  {
   "cell_type": "markdown",
   "id": "10828372-717e-4a8e-bce5-bdb6781ba33f",
   "metadata": {},
   "source": [
    "Damn it, this algorithm is 4 bins far from the optimal solution! Let's try an online version. Usually, they perform worst, so let's measure it."
   ]
  },
  {
   "cell_type": "code",
   "execution_count": 5,
   "id": "50de8648-a261-4e84-bc56-14beefccde46",
   "metadata": {},
   "outputs": [
    {
     "name": "stdout",
     "output_type": "stream",
     "text": [
      "nb_bins = 36\n",
      "[[13, 61], [15, 70], [19], [20, 23], [37, 43, 14], [39], [40, 8, 18], [43], [44], [44, 50], [51, 30], [61], [62], [62, 37], [63, 17, 13], [66], [67], [69], [71], [72], [75], [76], [76, 8, 12], [79], [83], [83], [88], [92], [92], [93], [93], [97], [97], [97], [99], [100]]\n"
     ]
    }
   ],
   "source": [
    "strategy: Online = online.NextFit()\n",
    "result = strategy(reader.online())\n",
    "print(f'nb_bins = {len(result)}')\n",
    "print(f'{sorted(result)}')"
   ]
  },
  {
   "cell_type": "markdown",
   "id": "c523a4f3-6957-4963-ae74-f0009a66d204",
   "metadata": {},
   "source": [
    "As expected, the online version is worst!"
   ]
  },
  {
   "cell_type": "markdown",
   "id": "217aefb9-4bf5-4975-9e18-95718b2c47ca",
   "metadata": {},
   "source": [
    "## Self-reflection questions"
   ]
  },
  {
   "cell_type": "markdown",
   "id": "4646f916-24c0-401a-ac38-7aee03e59bf7",
   "metadata": {},
   "source": [
    "As part of the self-reflection dimension of an experiential course, each member of the group is expected to answer to the following four questions:\n",
    "\n",
    "  - What process did you go through to produce this result? (Backward)\n",
    "  - What were your standards for this piece of work? Did you meet your standards? (Inward)\n",
    "  - What the one thing you particularly want people to notice when they look at your work? (Outward)\n",
    "  - What lessons will you keep from this reading/lecture in your professional practice? (Forward)"
   ]
  },
  {
   "cell_type": "markdown",
   "id": "065ccdd2-4e40-49c5-b5c9-23235c6b0ab2",
   "metadata": {},
   "source": [
    "## T1 Tasks"
   ]
  },
  {
   "cell_type": "markdown",
   "id": "61ec2a9b-e217-41cb-aacc-5724f2aa0ae1",
   "metadata": {},
   "source": [
    "##### For the code, explain how it follows the SOLID principles."
   ]
  },
  {
   "cell_type": "markdown",
   "id": "4cd1a24d-9cd9-4e49-b2f1-9d24257aaca1",
   "metadata": {},
   "source": [
    "The design and structure of the code allow it to follow all of the SOLID principles. Down below is a description of how the code follows each principle.\n",
    "\n",
    "For The Single Responsibility Principle, all classes in the code base only do one task. For instance, when creating an online algorithm, rather than having multiple functions in that one class that defines the algorithms, the code base separates them into multiple classes. Since there are multiple ways to pack bins online way, it is best to create separate classes to separate the responsibilities (algorithms). \n",
    "\n",
    "The Open-Closed Principle requires that classes should be open for extension and closed for modification. This can be seen in the code base as we can easily add new functionality (new offline or online algorithms or new type of dataset reader) without having to modify the existing code. The program also uses interfaces to allow it to be open-closed. \n",
    "\n",
    "The Liskov Substitution Principle explains that subclasses should be substitutable for their base classes. This can be seen in the code base as the Online and Offline models are used in the algorithms. All algorithms can inherit from their respective parent class. In addition, the child classes can extend the behaviour as well.\n",
    "\n",
    "The Interface Segregation Principle requires interfaces to be separate. This can be seen in the code base as both the BinPacker and DatasetReader are kept separate as they have different responsibilities. \n",
    "\n",
    "Finally, the Dependency Inversion Principle states that all classes should not depend on concrete classes and functions. As mentioned above the code base depends on interfaces when creating new readers or algorithms."
   ]
  },
  {
   "cell_type": "markdown",
   "id": "e4dd3337-954f-43c3-abf3-4c1485cab0b1",
   "metadata": {},
   "source": [
    "##### For the dataset, explain the different dimensions used and why they are important for evaluating algorithms. "
   ]
  },
  {
   "cell_type": "markdown",
   "id": "5c1c9c04-4be1-47f1-b4f8-df4cc58ca951",
   "metadata": {},
   "source": [
    "There are three different \"types\" of datasets given to us. The first is in the folder binpp, where there are multiple files with the naming convention N#C#W#. This states the following parameters:\n",
    "\n",
    "N -> number of items (# = 1, numitems = 50) (# = 2, numitems = 100)\n",
    "C -> bin capacity (# = 1, capacity = 100) (# = 2, capacity = 100)\n",
    "W -> weights (# = 1, weights range from 1 - 100) (# = 2, weights range from 20 - 100)\n",
    "\n",
    "Each file then contains a stream of inputs where the first line contains the number of items, the second line contains the capacity of the bins, and the rest of the lines are all possible weights.\n",
    "\n",
    "This similar structure can be seen in the files for binpp-hard except for the naming convention.\n",
    "\n",
    "The jburkardt folder is slightly different from the other two as it separates the capacity and weights into separate files. In addition, it does not state how many weights there are. \n",
    "\n",
    "These dimensions (capacity and weights) are extremely important for evaluating algorithms as it is the piece of information needed to create them. The algorithms take the capacity and weights and based on their type, will pack them accordingly. The dataset also contains the optimal solution for each dataset, allowing us to see how each algorithm performed. A comparison between algorithms can be made which can help in terms of evaluation."
   ]
  },
  {
   "cell_type": "markdown",
   "id": "b27cc70b-b001-45be-abc6-7410b338f095",
   "metadata": {},
   "source": [
    "##### Implement a new DatasetReader, to support the cases stored in the jburkardt directory."
   ]
  },
  {
   "cell_type": "code",
   "execution_count": 6,
   "id": "40aaaef0-b404-46db-b593-ab5d7a08ea4c",
   "metadata": {},
   "outputs": [
    {
     "name": "stdout",
     "output_type": "stream",
     "text": [
      "  - Bin Capacity: 100\n",
      "  - Objects to pack: [3, 7, 11, 33, 33, 33, 50, 60, 70]\n"
     ]
    }
   ],
   "source": [
    "from macpacking.reader import JburkardtReader\n",
    "\n",
    "capacity_dataset = '_datasets\\jburkardt\\p01_c.txt'\n",
    "weights_dataset = '_datasets\\jburkardt\\p01_w.txt'\n",
    "jburkardt_reader: DatasetReader = JburkardtReader(capacity_dataset, weights_dataset)\n",
    "print(f'  - Bin Capacity: {jburkardt_reader.offline()[0]}')\n",
    "print(f'  - Objects to pack: {sorted(jburkardt_reader.offline()[1])}')"
   ]
  },
  {
   "cell_type": "markdown",
   "id": "e3aa4a2d-a000-4325-8b0e-083c3a6f0499",
   "metadata": {},
   "source": [
    "##### Implement the most terrible online bin packing algorithm that can ever exist: this algorithm uses one bin per object."
   ]
  },
  {
   "cell_type": "code",
   "execution_count": 7,
   "id": "d85a3512-c9ff-4c58-81bc-fcca28e16afc",
   "metadata": {},
   "outputs": [
    {
     "name": "stdout",
     "output_type": "stream",
     "text": [
      "nb_bins = 9\n",
      "[[3], [7], [11], [33], [33], [33], [50], [60], [70]]\n"
     ]
    }
   ],
   "source": [
    "strategy: Online = online.OneFit()\n",
    "result = strategy(jburkardt_reader.online())\n",
    "print(f'nb_bins = {len(result)}')\n",
    "print(f'{sorted(result)}')"
   ]
  },
  {
   "cell_type": "markdown",
   "id": "0e0ed8ba-a93f-46fe-852f-698562968c04",
   "metadata": {},
   "source": [
    "##### Integrate it in the class hierarchy."
   ]
  },
  {
   "cell_type": "markdown",
   "id": "2bf30886-d943-4165-b603-747fd9189b8e",
   "metadata": {},
   "source": [
    "![t1_class_heirarchy](uml/t1_class_hierarchy.png)"
   ]
  },
  {
   "cell_type": "markdown",
   "id": "2f32e090-ceb8-4dba-8750-10cdae953043",
   "metadata": {},
   "source": [
    "## T2 Tasks"
   ]
  },
  {
   "cell_type": "markdown",
   "id": "6c7fcc56-7675-4fda-953b-7a307d79c5be",
   "metadata": {},
   "source": [
    "##### Provide an implementation of the following algorithms:"
   ]
  },
  {
   "cell_type": "markdown",
   "id": "5dc582f8-2a15-4f98-9f06-30d62a7986c7",
   "metadata": {},
   "source": [
    "###### Online: First-Fit"
   ]
  },
  {
   "cell_type": "code",
   "execution_count": 8,
   "id": "5b1f82ce-e51d-4a09-b85b-f86a34711943",
   "metadata": {},
   "outputs": [
    {
     "name": "stdout",
     "output_type": "stream",
     "text": [
      "nb_bins = 31\n",
      "[[40, 44], [44, 43, 13], [50, 43], [51, 39], [61, 13, 20], [61, 37], [62, 23, 15], [62, 37], [63], [66, 30], [67], [69, 8, 18], [70], [71], [72, 14, 12], [75], [76], [76], [79, 19], [83], [83, 17], [88, 8], [92], [92], [93], [93], [97], [97], [97], [99], [100]]\n"
     ]
    }
   ],
   "source": [
    "strategy: Online = online.FirstFit()\n",
    "result = strategy(reader.online())\n",
    "print(f'nb_bins = {len(result)}')\n",
    "print(f'{sorted(result)}')"
   ]
  },
  {
   "cell_type": "markdown",
   "id": "a5ac1b09-4b4b-4fc2-8d94-1851d2133a6d",
   "metadata": {},
   "source": [
    "###### Online: Best-Fit"
   ]
  },
  {
   "cell_type": "code",
   "execution_count": 9,
   "id": "7085cd8d-cfac-4752-94a0-4ba924669a57",
   "metadata": {},
   "outputs": [
    {
     "name": "stdout",
     "output_type": "stream",
     "text": [
      "nb_bins = 31\n",
      "[[40, 44, 12], [44, 43, 13], [50, 43], [51], [61], [61, 39], [62], [62, 37], [63, 37], [66], [67, 30], [69, 17, 14], [70, 18, 8], [71], [72, 23], [75], [76], [76, 19], [79, 20], [83, 13], [83, 15], [88, 8], [92], [92], [93], [93], [97], [97], [97], [99], [100]]\n"
     ]
    }
   ],
   "source": [
    "strategy: Online = online.BestFit()\n",
    "result = strategy(reader.online())\n",
    "print(f'nb_bins = {len(result)}')\n",
    "print(f'{sorted(result)}')"
   ]
  },
  {
   "cell_type": "markdown",
   "id": "82c17d96-b485-486f-a2e0-6d1657dc1fa3",
   "metadata": {},
   "source": [
    "###### Online: Worst-Fit"
   ]
  },
  {
   "cell_type": "code",
   "execution_count": 10,
   "id": "9baa8777-2b92-49cd-acea-1589b99fa6a2",
   "metadata": {},
   "outputs": [
    {
     "name": "stdout",
     "output_type": "stream",
     "text": [
      "nb_bins = 33\n",
      "[[37, 43], [39, 19], [40, 8, 18, 13], [44, 43], [44, 50], [51, 30], [61, 13], [61, 20], [62, 23], [62, 37], [63, 17], [66, 15], [67, 14], [69, 8], [70, 12], [71], [72], [75], [76], [76], [79], [83], [83], [88], [92], [92], [93], [93], [97], [97], [97], [99], [100]]\n"
     ]
    }
   ],
   "source": [
    "strategy: Online = online.WorstFit()\n",
    "result = strategy(reader.online())\n",
    "print(f'nb_bins = {len(result)}')\n",
    "print(f'{sorted(result)}')"
   ]
  },
  {
   "cell_type": "markdown",
   "id": "c77b18d9-05fd-4d51-ab66-bd6e3bbe2f32",
   "metadata": {},
   "source": [
    "###### Offline: First-Fit Decreasing"
   ]
  },
  {
   "cell_type": "code",
   "execution_count": 11,
   "id": "47edf154-da86-4b08-8aaf-a2977f54cc36",
   "metadata": {},
   "outputs": [
    {
     "name": "stdout",
     "output_type": "stream",
     "text": [
      "nb_bins = 31\n",
      "[[40], [43, 43], [50, 44], [51, 44], [61], [61, 39], [62], [62, 37], [63, 37], [66], [67], [69], [70, 30], [71, 13], [72, 14, 13], [75, 18], [76, 19], [76, 23], [79, 20], [83, 15], [83, 17], [88, 12], [92, 8], [92, 8], [93], [93], [97], [97], [97], [99], [100]]\n"
     ]
    }
   ],
   "source": [
    "strategy: Offline = offline.FirstFit()\n",
    "result = strategy(reader.offline())\n",
    "print(f'nb_bins = {len(result)}')\n",
    "print(f'{sorted(result)}')"
   ]
  },
  {
   "cell_type": "markdown",
   "id": "999025cc-4442-4d33-b50d-a5d8d65d823c",
   "metadata": {},
   "source": [
    "###### Offline: Best-Fit Decreasing"
   ]
  },
  {
   "cell_type": "code",
   "execution_count": 12,
   "id": "e68870e3-8bf8-4fe5-ac80-109d015cd6b5",
   "metadata": {},
   "outputs": [
    {
     "name": "stdout",
     "output_type": "stream",
     "text": [
      "nb_bins = 31\n",
      "[[40], [43, 43, 14], [50, 44], [51, 44], [61], [61, 39], [62], [62, 37], [63, 37], [66], [67], [69], [70, 30], [71], [72, 13, 13], [75, 18], [76, 19], [76, 23], [79, 20], [83, 15], [83, 17], [88, 12], [92, 8], [92, 8], [93], [93], [97], [97], [97], [99], [100]]\n"
     ]
    }
   ],
   "source": [
    "strategy: Offline = offline.BestFit()\n",
    "result = strategy(reader.offline())\n",
    "print(f'nb_bins = {len(result)}')\n",
    "print(f'{sorted(result)}')"
   ]
  },
  {
   "cell_type": "markdown",
   "id": "6fd1dce3-acc8-49a7-a024-f1be5f90420f",
   "metadata": {},
   "source": [
    "###### Offline: Worst-Fit Decreasing"
   ]
  },
  {
   "cell_type": "code",
   "execution_count": 13,
   "id": "19cb3452-20f4-4db5-824d-d2c7dd24a099",
   "metadata": {},
   "outputs": [
    {
     "name": "stdout",
     "output_type": "stream",
     "text": [
      "nb_bins = 31\n",
      "[[40, 39], [43, 43], [50, 44], [51, 44], [61, 37], [61, 37], [62, 23], [62, 30], [63, 20], [66, 19], [67, 18], [69, 17], [70, 15], [71, 14], [72, 13], [75, 13], [76, 8], [76, 12], [79, 8], [83], [83], [88], [92], [92], [93], [93], [97], [97], [97], [99], [100]]\n"
     ]
    }
   ],
   "source": [
    "strategy: Offline = offline.WorstFit()\n",
    "result = strategy(reader.offline())\n",
    "print(f'nb_bins = {len(result)}')\n",
    "print(f'{sorted(result)}')"
   ]
  },
  {
   "cell_type": "markdown",
   "id": "71484d96-3e46-437d-b28c-1fa5cce53cd8",
   "metadata": {},
   "source": [
    "##### Implement a way to evaluate a given solution, by measuring KPIs related to number of bins used, and any other things that can be useful to characterize a solution."
   ]
  },
  {
   "cell_type": "code",
   "execution_count": null,
   "id": "20b74d64-c857-4baf-a6df-3b011553fcf2",
   "metadata": {},
   "outputs": [],
   "source": []
  }
 ],
 "metadata": {
  "kernelspec": {
   "display_name": "Python 3 (ipykernel)",
   "language": "python",
   "name": "python3"
  },
  "language_info": {
   "codemirror_mode": {
    "name": "ipython",
    "version": 3
   },
   "file_extension": ".py",
   "mimetype": "text/x-python",
   "name": "python",
   "nbconvert_exporter": "python",
   "pygments_lexer": "ipython3",
   "version": "3.10.5"
  },
  "vscode": {
   "interpreter": {
    "hash": "a102ffc8e708fafde2eac7ad2f955c8f9d0ed617bb032e6a3d2a72c0e8416fb0"
   }
  }
 },
 "nbformat": 4,
 "nbformat_minor": 5
}
